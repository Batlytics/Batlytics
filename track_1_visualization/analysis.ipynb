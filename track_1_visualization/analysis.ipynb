{
 "cells": [
  {
   "cell_type": "code",
   "execution_count": 42,
   "metadata": {},
   "outputs": [],
   "source": [
    "import pandas as pd\n",
    "import plotly.express as px"
   ]
  },
  {
   "cell_type": "code",
   "execution_count": 43,
   "metadata": {},
   "outputs": [],
   "source": [
    "df = pd.read_csv('../dataset/02_02_21_Scrimmage.csv', low_memory = False)"
   ]
  },
  {
   "cell_type": "code",
   "execution_count": 44,
   "metadata": {},
   "outputs": [
    {
     "data": {
      "text/html": [
       "<div>\n",
       "<style scoped>\n",
       "    .dataframe tbody tr th:only-of-type {\n",
       "        vertical-align: middle;\n",
       "    }\n",
       "\n",
       "    .dataframe tbody tr th {\n",
       "        vertical-align: top;\n",
       "    }\n",
       "\n",
       "    .dataframe thead th {\n",
       "        text-align: right;\n",
       "    }\n",
       "</style>\n",
       "<table border=\"1\" class=\"dataframe\">\n",
       "  <thead>\n",
       "    <tr style=\"text-align: right;\">\n",
       "      <th></th>\n",
       "      <th>PitchTrajectoryXc1</th>\n",
       "      <th>PitchTrajectoryYc1</th>\n",
       "      <th>PitchTrajectoryZc1</th>\n",
       "      <th>AutoPitchType</th>\n",
       "    </tr>\n",
       "  </thead>\n",
       "  <tbody>\n",
       "    <tr>\n",
       "      <th>0</th>\n",
       "      <td>-105.66514</td>\n",
       "      <td>7.33564</td>\n",
       "      <td>0.87803</td>\n",
       "      <td>Curveball</td>\n",
       "    </tr>\n",
       "    <tr>\n",
       "      <th>1</th>\n",
       "      <td>-116.91534</td>\n",
       "      <td>-0.83970</td>\n",
       "      <td>-7.08596</td>\n",
       "      <td>Changeup</td>\n",
       "    </tr>\n",
       "    <tr>\n",
       "      <th>2</th>\n",
       "      <td>-132.03713</td>\n",
       "      <td>-4.24971</td>\n",
       "      <td>-8.71644</td>\n",
       "      <td>Four-Seam</td>\n",
       "    </tr>\n",
       "    <tr>\n",
       "      <th>3</th>\n",
       "      <td>-133.33800</td>\n",
       "      <td>-2.16741</td>\n",
       "      <td>-3.68449</td>\n",
       "      <td>Four-Seam</td>\n",
       "    </tr>\n",
       "    <tr>\n",
       "      <th>4</th>\n",
       "      <td>-109.96183</td>\n",
       "      <td>4.11991</td>\n",
       "      <td>-0.12692</td>\n",
       "      <td>Curveball</td>\n",
       "    </tr>\n",
       "  </tbody>\n",
       "</table>\n",
       "</div>"
      ],
      "text/plain": [
       "   PitchTrajectoryXc1  PitchTrajectoryYc1  PitchTrajectoryZc1 AutoPitchType\n",
       "0          -105.66514             7.33564             0.87803     Curveball\n",
       "1          -116.91534            -0.83970            -7.08596      Changeup\n",
       "2          -132.03713            -4.24971            -8.71644     Four-Seam\n",
       "3          -133.33800            -2.16741            -3.68449     Four-Seam\n",
       "4          -109.96183             4.11991            -0.12692     Curveball"
      ]
     },
     "execution_count": 44,
     "metadata": {},
     "output_type": "execute_result"
    }
   ],
   "source": [
    "new_df = df[['PitchTrajectoryXc1', 'PitchTrajectoryYc1', 'PitchTrajectoryZc1', 'AutoPitchType']]\n",
    "new_df.head(5)"
   ]
  },
  {
   "cell_type": "code",
   "execution_count": 69,
   "metadata": {},
   "outputs": [
    {
     "data": {
      "application/vnd.plotly.v1+json": {
       "config": {
        "plotlyServerURL": "https://plot.ly"
       },
       "data": [
        {
         "hovertemplate": "color=Curveball<br>x=%{x}<br>y=%{y}<br>z=%{z}<extra></extra>",
         "legendgroup": "Curveball",
         "marker": {
          "color": "#636efa",
          "symbol": "circle"
         },
         "mode": "markers",
         "name": "Curveball",
         "scene": "scene",
         "showlegend": true,
         "type": "scatter3d",
         "x": [
          -105.66514,
          -109.96183,
          -112.26743,
          -108.32103,
          -110.92871,
          -112.55144,
          -106.98436,
          -105.15547,
          -105.9665,
          -103.22736,
          -106.64424,
          -103.76599,
          -112.2329,
          -113.78558,
          -113.90236,
          -112.16092,
          -113.83006,
          -103.26757,
          -103.70998,
          -104.34815,
          -102.76783,
          -100.30022,
          -103.19516,
          -105.87603,
          -101.2151,
          -102.30902,
          -100.61375
         ],
         "y": [
          7.33564,
          4.11991,
          -1.01566,
          4.02678,
          2.09366,
          -0.18343,
          3.11893,
          5.28965,
          2.25386,
          4.09449,
          3.41536,
          6.12256,
          4.47973,
          3.13158,
          0.72619,
          3.34827,
          -0.18504,
          5.96629,
          3.25969,
          1.29468,
          3.78305,
          5.02088,
          2.41298,
          1.92684,
          -1.2051,
          -1.78646,
          1.7969
         ],
         "z": [
          0.87803,
          -0.12692,
          -5.3956,
          -2.66497,
          -1.85182,
          -3.34136,
          -4.81686,
          -0.10715,
          -4.63294,
          -2.19029,
          -4.87433,
          1.61946,
          2.44236,
          3.00313,
          3.78904,
          2.42599,
          5.48264,
          0.44072,
          -3.64455,
          -2.41679,
          -1.41762,
          0.9033,
          -0.89866,
          -2.93875,
          -3.00181,
          -6.16236,
          -3.6311
         ]
        },
        {
         "hovertemplate": "color=Changeup<br>x=%{x}<br>y=%{y}<br>z=%{z}<extra></extra>",
         "legendgroup": "Changeup",
         "marker": {
          "color": "#EF553B",
          "symbol": "circle"
         },
         "mode": "markers",
         "name": "Changeup",
         "scene": "scene",
         "showlegend": true,
         "type": "scatter3d",
         "x": [
          -116.91534,
          -117.00271,
          -116.60424,
          -115.56859,
          -116.3974,
          -117.48817,
          -118.30499,
          -124.95698,
          -126.60332,
          -115.56357,
          -125.54446,
          -125.39,
          -120.44038,
          -125.05696,
          -118.55825,
          -124.01762,
          -113.75051,
          -123.02102,
          -109.9441,
          -118.757,
          -117.39961,
          -111.26611,
          -118.64185,
          -110.80538,
          -118.73688,
          -120.73123,
          -110.90478,
          -118.08908,
          -119.97974,
          -111.51554,
          -118.19012,
          -118.18052,
          -110.98657,
          -118.69389,
          -114.65719,
          -114.94162,
          -112.40896
         ],
         "y": [
          -0.8397,
          -2.99333,
          -2.66499,
          -0.65848,
          -1.02499,
          -2.86955,
          -2.49606,
          0.97948,
          -1.61902,
          3.12603,
          -2.67586,
          -2.50321,
          -1.12784,
          2.40995,
          -1.85344,
          3.51922,
          3.09196,
          -2.37217,
          -2.18476,
          -1.87593,
          -3.45635,
          -4.61647,
          -0.21133,
          -2.29129,
          -5.02057,
          0.07638,
          -0.65132,
          -4.44933,
          -2.26333,
          1.9308,
          -2.46586,
          -0.65103,
          -4.60995,
          -6.81884,
          -2.8199,
          -5.67849,
          -6.24944
         ],
         "z": [
          -7.08596,
          -4.99074,
          -7.15046,
          -5.6251,
          -8.92276,
          -6.06143,
          -6.90054,
          -14.91196,
          -12.85158,
          -11.41683,
          -11.61027,
          -15.54707,
          -10.17169,
          -12.26558,
          -12.92795,
          -12.36657,
          3.58146,
          5.98721,
          -6.55387,
          -3.56494,
          -3.90707,
          -4.17498,
          -3.70719,
          -3.72044,
          -5.33925,
          -6.03446,
          -4.40576,
          -7.93503,
          -5.90034,
          -2.26461,
          -1.56975,
          -5.23898,
          -7.45865,
          -7.699,
          -6.73244,
          -6.88163,
          -9.07841
         ]
        },
        {
         "hovertemplate": "color=Four-Seam<br>x=%{x}<br>y=%{y}<br>z=%{z}<extra></extra>",
         "legendgroup": "Four-Seam",
         "marker": {
          "color": "#00cc96",
          "symbol": "circle"
         },
         "mode": "markers",
         "name": "Four-Seam",
         "scene": "scene",
         "showlegend": true,
         "type": "scatter3d",
         "x": [
          -132.03713,
          -133.338,
          -133.16327,
          -130.75493,
          -128.23749,
          -131.3287,
          -131.0198,
          -131.32796,
          -132.94449,
          -124.24302,
          -124.87998,
          -122.50647,
          -124.20928,
          -125.73329,
          -124.307,
          -126.21429,
          -124.45171,
          -124.53888,
          -119.74814,
          -121.77821,
          -122.15179,
          -121.44654,
          -118.95615,
          -122.4215
         ],
         "y": [
          -4.24971,
          -2.16741,
          -2.50951,
          -3.54041,
          -2.40942,
          -1.38933,
          -2.08323,
          -3.82328,
          -3.82453,
          -0.39001,
          -0.71386,
          -2.46712,
          -1.15869,
          -4.66123,
          -7.71655,
          -4.28554,
          -4.44269,
          -5.90421,
          -5.90468,
          -5.26401,
          -3.79624,
          -5.82209,
          -3.50862,
          -3.97725
         ],
         "z": [
          -8.71644,
          -3.68449,
          -1.86109,
          -8.28608,
          -3.03041,
          -6.17043,
          -5.46609,
          -6.2651,
          -7.01028,
          -11.3361,
          -12.6321,
          7.54459,
          4.9847,
          3.18895,
          5.47104,
          3.43605,
          7.73288,
          5.12186,
          -10.17834,
          -9.82296,
          -8.31569,
          -5.69916,
          -7.67671,
          -5.3154
         ]
        },
        {
         "hovertemplate": "color=Sinker<br>x=%{x}<br>y=%{y}<br>z=%{z}<extra></extra>",
         "legendgroup": "Sinker",
         "marker": {
          "color": "#ab63fa",
          "symbol": "circle"
         },
         "mode": "markers",
         "name": "Sinker",
         "scene": "scene",
         "showlegend": true,
         "type": "scatter3d",
         "x": [
          -131.96422,
          -129.27602,
          -128.89514,
          -132.10161,
          -131.55129,
          -130.77545,
          -125.13837,
          -125.39839
         ],
         "y": [
          -0.83109,
          -0.45073,
          -4.25551,
          -4.20779,
          -2.54316,
          -2.6574,
          -2.40459,
          -3.90075
         ],
         "z": [
          -2.95594,
          -3.56201,
          -5.76965,
          -3.47617,
          -5.18356,
          -4.68444,
          -13.72351,
          -16.34079
         ]
        },
        {
         "hovertemplate": "color=Slider<br>x=%{x}<br>y=%{y}<br>z=%{z}<extra></extra>",
         "legendgroup": "Slider",
         "marker": {
          "color": "#FFA15A",
          "symbol": "circle"
         },
         "mode": "markers",
         "name": "Slider",
         "scene": "scene",
         "showlegend": true,
         "type": "scatter3d",
         "x": [
          -109.07273,
          -111.48639
         ],
         "y": [
          5.59109,
          4.51642
         ],
         "z": [
          1.66368,
          0.17354
         ]
        },
        {
         "hovertemplate": "color=Cutter<br>x=%{x}<br>y=%{y}<br>z=%{z}<extra></extra>",
         "legendgroup": "Cutter",
         "marker": {
          "color": "#19d3f3",
          "symbol": "circle"
         },
         "mode": "markers",
         "name": "Cutter",
         "scene": "scene",
         "showlegend": true,
         "type": "scatter3d",
         "x": [
          -117.95363
         ],
         "y": [
          -8.08364
         ],
         "z": [
          -6.72962
         ]
        }
       ],
       "layout": {
        "legend": {
         "title": {
          "text": "color"
         },
         "tracegroupgap": 0
        },
        "margin": {
         "t": 60
        },
        "scene": {
         "domain": {
          "x": [
           0,
           1
          ],
          "y": [
           0,
           1
          ]
         },
         "xaxis": {
          "title": {
           "text": "x"
          }
         },
         "yaxis": {
          "title": {
           "text": "y"
          }
         },
         "zaxis": {
          "title": {
           "text": "z"
          }
         }
        },
        "template": {
         "data": {
          "bar": [
           {
            "error_x": {
             "color": "#2a3f5f"
            },
            "error_y": {
             "color": "#2a3f5f"
            },
            "marker": {
             "line": {
              "color": "#E5ECF6",
              "width": 0.5
             },
             "pattern": {
              "fillmode": "overlay",
              "size": 10,
              "solidity": 0.2
             }
            },
            "type": "bar"
           }
          ],
          "barpolar": [
           {
            "marker": {
             "line": {
              "color": "#E5ECF6",
              "width": 0.5
             },
             "pattern": {
              "fillmode": "overlay",
              "size": 10,
              "solidity": 0.2
             }
            },
            "type": "barpolar"
           }
          ],
          "carpet": [
           {
            "aaxis": {
             "endlinecolor": "#2a3f5f",
             "gridcolor": "white",
             "linecolor": "white",
             "minorgridcolor": "white",
             "startlinecolor": "#2a3f5f"
            },
            "baxis": {
             "endlinecolor": "#2a3f5f",
             "gridcolor": "white",
             "linecolor": "white",
             "minorgridcolor": "white",
             "startlinecolor": "#2a3f5f"
            },
            "type": "carpet"
           }
          ],
          "choropleth": [
           {
            "colorbar": {
             "outlinewidth": 0,
             "ticks": ""
            },
            "type": "choropleth"
           }
          ],
          "contour": [
           {
            "colorbar": {
             "outlinewidth": 0,
             "ticks": ""
            },
            "colorscale": [
             [
              0,
              "#0d0887"
             ],
             [
              0.1111111111111111,
              "#46039f"
             ],
             [
              0.2222222222222222,
              "#7201a8"
             ],
             [
              0.3333333333333333,
              "#9c179e"
             ],
             [
              0.4444444444444444,
              "#bd3786"
             ],
             [
              0.5555555555555556,
              "#d8576b"
             ],
             [
              0.6666666666666666,
              "#ed7953"
             ],
             [
              0.7777777777777778,
              "#fb9f3a"
             ],
             [
              0.8888888888888888,
              "#fdca26"
             ],
             [
              1,
              "#f0f921"
             ]
            ],
            "type": "contour"
           }
          ],
          "contourcarpet": [
           {
            "colorbar": {
             "outlinewidth": 0,
             "ticks": ""
            },
            "type": "contourcarpet"
           }
          ],
          "heatmap": [
           {
            "colorbar": {
             "outlinewidth": 0,
             "ticks": ""
            },
            "colorscale": [
             [
              0,
              "#0d0887"
             ],
             [
              0.1111111111111111,
              "#46039f"
             ],
             [
              0.2222222222222222,
              "#7201a8"
             ],
             [
              0.3333333333333333,
              "#9c179e"
             ],
             [
              0.4444444444444444,
              "#bd3786"
             ],
             [
              0.5555555555555556,
              "#d8576b"
             ],
             [
              0.6666666666666666,
              "#ed7953"
             ],
             [
              0.7777777777777778,
              "#fb9f3a"
             ],
             [
              0.8888888888888888,
              "#fdca26"
             ],
             [
              1,
              "#f0f921"
             ]
            ],
            "type": "heatmap"
           }
          ],
          "heatmapgl": [
           {
            "colorbar": {
             "outlinewidth": 0,
             "ticks": ""
            },
            "colorscale": [
             [
              0,
              "#0d0887"
             ],
             [
              0.1111111111111111,
              "#46039f"
             ],
             [
              0.2222222222222222,
              "#7201a8"
             ],
             [
              0.3333333333333333,
              "#9c179e"
             ],
             [
              0.4444444444444444,
              "#bd3786"
             ],
             [
              0.5555555555555556,
              "#d8576b"
             ],
             [
              0.6666666666666666,
              "#ed7953"
             ],
             [
              0.7777777777777778,
              "#fb9f3a"
             ],
             [
              0.8888888888888888,
              "#fdca26"
             ],
             [
              1,
              "#f0f921"
             ]
            ],
            "type": "heatmapgl"
           }
          ],
          "histogram": [
           {
            "marker": {
             "pattern": {
              "fillmode": "overlay",
              "size": 10,
              "solidity": 0.2
             }
            },
            "type": "histogram"
           }
          ],
          "histogram2d": [
           {
            "colorbar": {
             "outlinewidth": 0,
             "ticks": ""
            },
            "colorscale": [
             [
              0,
              "#0d0887"
             ],
             [
              0.1111111111111111,
              "#46039f"
             ],
             [
              0.2222222222222222,
              "#7201a8"
             ],
             [
              0.3333333333333333,
              "#9c179e"
             ],
             [
              0.4444444444444444,
              "#bd3786"
             ],
             [
              0.5555555555555556,
              "#d8576b"
             ],
             [
              0.6666666666666666,
              "#ed7953"
             ],
             [
              0.7777777777777778,
              "#fb9f3a"
             ],
             [
              0.8888888888888888,
              "#fdca26"
             ],
             [
              1,
              "#f0f921"
             ]
            ],
            "type": "histogram2d"
           }
          ],
          "histogram2dcontour": [
           {
            "colorbar": {
             "outlinewidth": 0,
             "ticks": ""
            },
            "colorscale": [
             [
              0,
              "#0d0887"
             ],
             [
              0.1111111111111111,
              "#46039f"
             ],
             [
              0.2222222222222222,
              "#7201a8"
             ],
             [
              0.3333333333333333,
              "#9c179e"
             ],
             [
              0.4444444444444444,
              "#bd3786"
             ],
             [
              0.5555555555555556,
              "#d8576b"
             ],
             [
              0.6666666666666666,
              "#ed7953"
             ],
             [
              0.7777777777777778,
              "#fb9f3a"
             ],
             [
              0.8888888888888888,
              "#fdca26"
             ],
             [
              1,
              "#f0f921"
             ]
            ],
            "type": "histogram2dcontour"
           }
          ],
          "mesh3d": [
           {
            "colorbar": {
             "outlinewidth": 0,
             "ticks": ""
            },
            "type": "mesh3d"
           }
          ],
          "parcoords": [
           {
            "line": {
             "colorbar": {
              "outlinewidth": 0,
              "ticks": ""
             }
            },
            "type": "parcoords"
           }
          ],
          "pie": [
           {
            "automargin": true,
            "type": "pie"
           }
          ],
          "scatter": [
           {
            "marker": {
             "colorbar": {
              "outlinewidth": 0,
              "ticks": ""
             }
            },
            "type": "scatter"
           }
          ],
          "scatter3d": [
           {
            "line": {
             "colorbar": {
              "outlinewidth": 0,
              "ticks": ""
             }
            },
            "marker": {
             "colorbar": {
              "outlinewidth": 0,
              "ticks": ""
             }
            },
            "type": "scatter3d"
           }
          ],
          "scattercarpet": [
           {
            "marker": {
             "colorbar": {
              "outlinewidth": 0,
              "ticks": ""
             }
            },
            "type": "scattercarpet"
           }
          ],
          "scattergeo": [
           {
            "marker": {
             "colorbar": {
              "outlinewidth": 0,
              "ticks": ""
             }
            },
            "type": "scattergeo"
           }
          ],
          "scattergl": [
           {
            "marker": {
             "colorbar": {
              "outlinewidth": 0,
              "ticks": ""
             }
            },
            "type": "scattergl"
           }
          ],
          "scattermapbox": [
           {
            "marker": {
             "colorbar": {
              "outlinewidth": 0,
              "ticks": ""
             }
            },
            "type": "scattermapbox"
           }
          ],
          "scatterpolar": [
           {
            "marker": {
             "colorbar": {
              "outlinewidth": 0,
              "ticks": ""
             }
            },
            "type": "scatterpolar"
           }
          ],
          "scatterpolargl": [
           {
            "marker": {
             "colorbar": {
              "outlinewidth": 0,
              "ticks": ""
             }
            },
            "type": "scatterpolargl"
           }
          ],
          "scatterternary": [
           {
            "marker": {
             "colorbar": {
              "outlinewidth": 0,
              "ticks": ""
             }
            },
            "type": "scatterternary"
           }
          ],
          "surface": [
           {
            "colorbar": {
             "outlinewidth": 0,
             "ticks": ""
            },
            "colorscale": [
             [
              0,
              "#0d0887"
             ],
             [
              0.1111111111111111,
              "#46039f"
             ],
             [
              0.2222222222222222,
              "#7201a8"
             ],
             [
              0.3333333333333333,
              "#9c179e"
             ],
             [
              0.4444444444444444,
              "#bd3786"
             ],
             [
              0.5555555555555556,
              "#d8576b"
             ],
             [
              0.6666666666666666,
              "#ed7953"
             ],
             [
              0.7777777777777778,
              "#fb9f3a"
             ],
             [
              0.8888888888888888,
              "#fdca26"
             ],
             [
              1,
              "#f0f921"
             ]
            ],
            "type": "surface"
           }
          ],
          "table": [
           {
            "cells": {
             "fill": {
              "color": "#EBF0F8"
             },
             "line": {
              "color": "white"
             }
            },
            "header": {
             "fill": {
              "color": "#C8D4E3"
             },
             "line": {
              "color": "white"
             }
            },
            "type": "table"
           }
          ]
         },
         "layout": {
          "annotationdefaults": {
           "arrowcolor": "#2a3f5f",
           "arrowhead": 0,
           "arrowwidth": 1
          },
          "autotypenumbers": "strict",
          "coloraxis": {
           "colorbar": {
            "outlinewidth": 0,
            "ticks": ""
           }
          },
          "colorscale": {
           "diverging": [
            [
             0,
             "#8e0152"
            ],
            [
             0.1,
             "#c51b7d"
            ],
            [
             0.2,
             "#de77ae"
            ],
            [
             0.3,
             "#f1b6da"
            ],
            [
             0.4,
             "#fde0ef"
            ],
            [
             0.5,
             "#f7f7f7"
            ],
            [
             0.6,
             "#e6f5d0"
            ],
            [
             0.7,
             "#b8e186"
            ],
            [
             0.8,
             "#7fbc41"
            ],
            [
             0.9,
             "#4d9221"
            ],
            [
             1,
             "#276419"
            ]
           ],
           "sequential": [
            [
             0,
             "#0d0887"
            ],
            [
             0.1111111111111111,
             "#46039f"
            ],
            [
             0.2222222222222222,
             "#7201a8"
            ],
            [
             0.3333333333333333,
             "#9c179e"
            ],
            [
             0.4444444444444444,
             "#bd3786"
            ],
            [
             0.5555555555555556,
             "#d8576b"
            ],
            [
             0.6666666666666666,
             "#ed7953"
            ],
            [
             0.7777777777777778,
             "#fb9f3a"
            ],
            [
             0.8888888888888888,
             "#fdca26"
            ],
            [
             1,
             "#f0f921"
            ]
           ],
           "sequentialminus": [
            [
             0,
             "#0d0887"
            ],
            [
             0.1111111111111111,
             "#46039f"
            ],
            [
             0.2222222222222222,
             "#7201a8"
            ],
            [
             0.3333333333333333,
             "#9c179e"
            ],
            [
             0.4444444444444444,
             "#bd3786"
            ],
            [
             0.5555555555555556,
             "#d8576b"
            ],
            [
             0.6666666666666666,
             "#ed7953"
            ],
            [
             0.7777777777777778,
             "#fb9f3a"
            ],
            [
             0.8888888888888888,
             "#fdca26"
            ],
            [
             1,
             "#f0f921"
            ]
           ]
          },
          "colorway": [
           "#636efa",
           "#EF553B",
           "#00cc96",
           "#ab63fa",
           "#FFA15A",
           "#19d3f3",
           "#FF6692",
           "#B6E880",
           "#FF97FF",
           "#FECB52"
          ],
          "font": {
           "color": "#2a3f5f"
          },
          "geo": {
           "bgcolor": "white",
           "lakecolor": "white",
           "landcolor": "#E5ECF6",
           "showlakes": true,
           "showland": true,
           "subunitcolor": "white"
          },
          "hoverlabel": {
           "align": "left"
          },
          "hovermode": "closest",
          "mapbox": {
           "style": "light"
          },
          "paper_bgcolor": "white",
          "plot_bgcolor": "#E5ECF6",
          "polar": {
           "angularaxis": {
            "gridcolor": "white",
            "linecolor": "white",
            "ticks": ""
           },
           "bgcolor": "#E5ECF6",
           "radialaxis": {
            "gridcolor": "white",
            "linecolor": "white",
            "ticks": ""
           }
          },
          "scene": {
           "xaxis": {
            "backgroundcolor": "#E5ECF6",
            "gridcolor": "white",
            "gridwidth": 2,
            "linecolor": "white",
            "showbackground": true,
            "ticks": "",
            "zerolinecolor": "white"
           },
           "yaxis": {
            "backgroundcolor": "#E5ECF6",
            "gridcolor": "white",
            "gridwidth": 2,
            "linecolor": "white",
            "showbackground": true,
            "ticks": "",
            "zerolinecolor": "white"
           },
           "zaxis": {
            "backgroundcolor": "#E5ECF6",
            "gridcolor": "white",
            "gridwidth": 2,
            "linecolor": "white",
            "showbackground": true,
            "ticks": "",
            "zerolinecolor": "white"
           }
          },
          "shapedefaults": {
           "line": {
            "color": "#2a3f5f"
           }
          },
          "ternary": {
           "aaxis": {
            "gridcolor": "white",
            "linecolor": "white",
            "ticks": ""
           },
           "baxis": {
            "gridcolor": "white",
            "linecolor": "white",
            "ticks": ""
           },
           "bgcolor": "#E5ECF6",
           "caxis": {
            "gridcolor": "white",
            "linecolor": "white",
            "ticks": ""
           }
          },
          "title": {
           "x": 0.05
          },
          "xaxis": {
           "automargin": true,
           "gridcolor": "white",
           "linecolor": "white",
           "ticks": "",
           "title": {
            "standoff": 15
           },
           "zerolinecolor": "white",
           "zerolinewidth": 2
          },
          "yaxis": {
           "automargin": true,
           "gridcolor": "white",
           "linecolor": "white",
           "ticks": "",
           "title": {
            "standoff": 15
           },
           "zerolinecolor": "white",
           "zerolinewidth": 2
          }
         }
        },
        "title": {
         "text": "Trajectory for Xc1, Yc1 and Zc1"
        },
        "width": 800
       }
      }
     },
     "metadata": {},
     "output_type": "display_data"
    }
   ],
   "source": [
    "fig = px.scatter_3d(\n",
    "    x = new_df['PitchTrajectoryXc1'],\n",
    "    y = new_df['PitchTrajectoryYc1'],\n",
    "    z = new_df['PitchTrajectoryZc1'],\n",
    "    color=new_df['AutoPitchType']\n",
    ")\n",
    "\n",
    "fig.update_layout(\n",
    "    title='Trajectory for Xc1, Yc1 and Zc1', \n",
    "    width = 800\n",
    ")\n",
    "\n",
    "fig.show()"
   ]
  },
  {
   "cell_type": "markdown",
   "metadata": {},
   "source": [
    "### Overall Pitch trajectory"
   ]
  },
  {
   "cell_type": "code",
   "execution_count": 46,
   "metadata": {},
   "outputs": [],
   "source": [
    "# polynomial\n",
    "\n",
    "df_polinomial = df[\n",
    "    [\n",
    "        'PitchTrajectoryXc0', 'PitchTrajectoryXc1', 'PitchTrajectoryXc2',\n",
    "        'PitchTrajectoryYc0', 'PitchTrajectoryYc1', 'PitchTrajectoryYc2',\n",
    "        'PitchTrajectoryZc0', 'PitchTrajectoryZc1', 'PitchTrajectoryZc2',\n",
    "        'TaggedPitchType', 'AutoPitchType', 'PitchCall', 'PlayResult'\n",
    "    ]\n",
    "]"
   ]
  },
  {
   "cell_type": "code",
   "execution_count": 50,
   "metadata": {},
   "outputs": [],
   "source": [
    "def calculate_ploynomial(df):\n",
    "    df_poly = {\n",
    "        'x': [],\n",
    "        'y': [],\n",
    "        'z': [],\n",
    "        'TaggedPitchType': [],\n",
    "        'AutoPitchType': [],\n",
    "        'PitchCall' : [], \n",
    "        'PlayResult' : []\n",
    "    }\n",
    "    for index, row in df.iterrows():\n",
    "        x_data = row['PitchTrajectoryXc2'] - (row['PitchTrajectoryXc1'] + row['PitchTrajectoryXc0']) \n",
    "        y_data = row['PitchTrajectoryYc2'] - (row['PitchTrajectoryYc1'] + row['PitchTrajectoryYc0']) \n",
    "        z_data = row['PitchTrajectoryZc2'] - (row['PitchTrajectoryZc1'] + row['PitchTrajectoryZc0'])\n",
    "        tpt_data = row['TaggedPitchType']\n",
    "        apt_data = row['AutoPitchType']\n",
    "        pc_data = row['PitchCall']\n",
    "        pr_data = row['PlayResult']\n",
    "        \n",
    "        df_poly['x'].append(x_data)\n",
    "        df_poly['y'].append(y_data)\n",
    "        df_poly['z'].append(z_data)\n",
    "        df_poly['TaggedPitchType'].append(tpt_data)\n",
    "        df_poly['AutoPitchType'].append(apt_data)\n",
    "        df_poly['PitchCall'].append(pc_data)\n",
    "        df_poly['PlayResult'].append(pr_data)\n",
    "        \n",
    "        \n",
    "    return df_poly\n",
    "        \n",
    "new_ploy_data = calculate_ploynomial(df_polinomial)"
   ]
  },
  {
   "cell_type": "code",
   "execution_count": 51,
   "metadata": {},
   "outputs": [],
   "source": [
    "poly_df = pd.DataFrame(new_ploy_data, columns=['x', 'y', 'z', 'TaggedPitchType', 'AutoPitchType', 'PitchCall', 'PlayResult'])"
   ]
  },
  {
   "cell_type": "code",
   "execution_count": 54,
   "metadata": {},
   "outputs": [
    {
     "data": {
      "application/vnd.plotly.v1+json": {
       "config": {
        "plotlyServerURL": "https://plot.ly"
       },
       "data": [
        {
         "hovertemplate": "color=Undefined<br>x=%{x}<br>y=%{y}<br>z=%{z}<extra></extra>",
         "legendgroup": "Undefined",
         "marker": {
          "color": "#636efa",
          "symbol": "circle"
         },
         "mode": "markers",
         "name": "Undefined",
         "scene": "scene",
         "showlegend": true,
         "type": "scatter3d",
         "x": [
          60.433539999999994,
          92.01459999999999,
          92.78303,
          65.67308000000001,
          95.72305000000001,
          90.91299,
          74.04135,
          90.72033000000002,
          87.7419,
          89.32488999999998,
          73.47058,
          68.30532000000001,
          62.43621999999999,
          90.88968,
          87.88443,
          74.69627,
          89.49719000000002,
          66.2082,
          90.39648,
          90.22864999999999,
          75.0682,
          90.29173,
          90.23981,
          68.59548,
          62.569689999999994,
          82.20431,
          73.0659,
          84.20043,
          59.535259999999994,
          83.1026,
          83.18563,
          76.68226,
          60.649939999999994,
          81.76532,
          81.52542000000001,
          73.78957,
          80.98752999999999,
          58.15941000000001,
          82.37861000000001,
          61.63405999999999,
          83.386,
          57.38012,
          67.67117,
          63.930800000000005,
          67.96262,
          82.20661999999999,
          71.26476000000001,
          82.44644,
          67.36552,
          84.44425,
          82.85342,
          67.57825,
          63.652060000000006,
          62.78728,
          54.91098000000001,
          73.66797,
          66.71898999999999,
          74.93651000000001,
          66.60645,
          76.12803,
          56.07536,
          56.795970000000004,
          79.89328,
          75.86489999999999,
          56.6921,
          78.06523000000001,
          68.15534,
          53.24463,
          76.48593,
          77.30854000000001,
          67.05493,
          55.557860000000005,
          81.24808,
          80.8323,
          56.15095,
          75.32748,
          71.67183,
          68.15708,
          55.36887999999999
         ],
         "y": [
          -32.83842,
          -8.922239999999999,
          -11.31697,
          -29.58633,
          -12.62822,
          -9.13611,
          -15.839659999999999,
          -15.387970000000001,
          -13.82753,
          -15.93272,
          -15.56548,
          -22.78172,
          -28.375149999999998,
          -13.5141,
          -9.954059999999998,
          -17.41894,
          -11.24258,
          -28.08899,
          -10.034379999999999,
          -11.89446,
          -12.4434,
          -9.3342,
          -10.247599999999998,
          -24.351409999999998,
          -24.90361,
          -17.097929999999998,
          -20.55825,
          -10.593330000000002,
          -27.641769999999998,
          -11.38853,
          -11.1433,
          -16.55319,
          -25.17572,
          -13.00873,
          -19.36074,
          -16.24545,
          -19.60539,
          -26.556150000000002,
          -14.13528,
          -25.54828,
          -11.2536,
          -29.98807,
          -26.76612,
          -26.75398,
          -25.03658,
          -10.743390000000002,
          -19.49085,
          -6.0053,
          -25.88204,
          -10.5334,
          -10.59837,
          -21.84172,
          -25.68207,
          -15.12455,
          -28.43198,
          -10.0651,
          -12.364720000000002,
          -15.72623,
          -13.89654,
          -8.51987,
          -26.894460000000002,
          -24.32798,
          -14.23298,
          -12.059640000000002,
          -27.91282,
          -14.15786,
          -18.531930000000003,
          -29.5456,
          -12.35739,
          -8.389809999999999,
          -12.78127,
          -24.6782,
          -7.75641,
          -9.89648,
          -20.336109999999998,
          -7.452219999999999,
          -8.924109999999999,
          -10.47797,
          -25.79309
         ],
         "z": [
          -7.20046,
          11.11177,
          5.10261,
          -5.1251999999999995,
          5.41912,
          10.05025,
          9.31148,
          5.84402,
          5.35073,
          6.8575099999999996,
          11.57968,
          -0.3075300000000003,
          -2.5434799999999997,
          9.51765,
          9.49684,
          10.75143,
          7.07249,
          -4.3533100000000005,
          6.446490000000001,
          9.47193,
          9.47544,
          8.31452,
          10.92483,
          -2.21321,
          -4.618219999999999,
          18.94388,
          15.034479999999999,
          18.941029999999998,
          -10.47479,
          15.64721,
          20.108530000000002,
          13.874039999999999,
          -4.97053,
          14.183720000000001,
          16.1265,
          16.19773,
          15.93919,
          -7.0595,
          15.540669999999999,
          -4.3928,
          19.603849999999998,
          2.7992999999999997,
          0.56498,
          1.43336,
          -0.05830000000000013,
          -6.313890000000001,
          -6.0032,
          -9.284740000000001,
          1.20604,
          -5.4854199999999995,
          -9.523859999999999,
          -1.82546,
          4.88611,
          11.26634,
          -3.20242,
          5.6539,
          7.7879499999999995,
          7.49664,
          7.432259999999999,
          8.82393,
          1.2304700000000002,
          -0.3953899999999999,
          9.28962,
          12.53148,
          -1.56006,
          11.191099999999999,
          5.78335,
          -6.25512,
          7.3176499999999995,
          7.931850000000001,
          9.01378,
          -1.31182,
          6.80064,
          5.8928,
          3.3922599999999994,
          5.1106300000000005,
          5.69952,
          9.01651,
          -1.14184
         ]
        },
        {
         "hovertemplate": "color=Out<br>x=%{x}<br>y=%{y}<br>z=%{z}<extra></extra>",
         "legendgroup": "Out",
         "marker": {
          "color": "#EF553B",
          "symbol": "circle"
         },
         "mode": "markers",
         "name": "Out",
         "scene": "scene",
         "showlegend": true,
         "type": "scatter3d",
         "x": [
          75.1555,
          91.05674,
          80.8236,
          74.52252000000001,
          67.78895,
          57.48759,
          60.06206,
          76.45734999999999,
          71.50332,
          79.88545,
          76.66432999999999,
          82.91815
         ],
         "y": [
          -17.6717,
          -11.702939999999998,
          -12.21154,
          -12.29704,
          -17.07706,
          -25.247880000000002,
          -24.35623,
          -8.275300000000001,
          -14.23963,
          -8.12046,
          -11.380370000000001,
          -9.75269
         ],
         "z": [
          12.36462,
          8.69993,
          -11.080300000000001,
          6.253299999999999,
          8.28548,
          -4.11717,
          0.4094500000000001,
          8.60912,
          7.84384,
          4.27461,
          7.08109,
          6.1750300000000005
         ]
        },
        {
         "hovertemplate": "color=FieldersChoice<br>x=%{x}<br>y=%{y}<br>z=%{z}<extra></extra>",
         "legendgroup": "FieldersChoice",
         "marker": {
          "color": "#00cc96",
          "symbol": "circle"
         },
         "mode": "markers",
         "name": "FieldersChoice",
         "scene": "scene",
         "showlegend": true,
         "type": "scatter3d",
         "x": [
          71.64561,
          73.61628
         ],
         "y": [
          -16.32286,
          -18.68074
         ],
         "z": [
          8.18452,
          14.09742
         ]
        },
        {
         "hovertemplate": "color=Double<br>x=%{x}<br>y=%{y}<br>z=%{z}<extra></extra>",
         "legendgroup": "Double",
         "marker": {
          "color": "#ab63fa",
          "symbol": "circle"
         },
         "mode": "markers",
         "name": "Double",
         "scene": "scene",
         "showlegend": true,
         "type": "scatter3d",
         "x": [
          83.30663,
          81.31145000000001,
          81.0001
         ],
         "y": [
          -14.22382,
          -13.88811,
          -7.5607500000000005
         ],
         "z": [
          17.081220000000002,
          -7.27853,
          -9.41837
         ]
        },
        {
         "hovertemplate": "color=Single<br>x=%{x}<br>y=%{y}<br>z=%{z}<extra></extra>",
         "legendgroup": "Single",
         "marker": {
          "color": "#FFA15A",
          "symbol": "circle"
         },
         "mode": "markers",
         "name": "Single",
         "scene": "scene",
         "showlegend": true,
         "type": "scatter3d",
         "x": [
          69.74975,
          78.63919,
          75.5942
         ],
         "y": [
          -23.66048,
          -13.909009999999999,
          -13.28566
         ],
         "z": [
          0.6759400000000002,
          -8.51613,
          6.312659999999999
         ]
        }
       ],
       "layout": {
        "legend": {
         "title": {
          "text": "color"
         },
         "tracegroupgap": 0
        },
        "margin": {
         "t": 60
        },
        "scene": {
         "domain": {
          "x": [
           0,
           1
          ],
          "y": [
           0,
           1
          ]
         },
         "xaxis": {
          "title": {
           "text": "x"
          }
         },
         "yaxis": {
          "title": {
           "text": "y"
          }
         },
         "zaxis": {
          "title": {
           "text": "z"
          }
         }
        },
        "template": {
         "data": {
          "bar": [
           {
            "error_x": {
             "color": "#2a3f5f"
            },
            "error_y": {
             "color": "#2a3f5f"
            },
            "marker": {
             "line": {
              "color": "#E5ECF6",
              "width": 0.5
             },
             "pattern": {
              "fillmode": "overlay",
              "size": 10,
              "solidity": 0.2
             }
            },
            "type": "bar"
           }
          ],
          "barpolar": [
           {
            "marker": {
             "line": {
              "color": "#E5ECF6",
              "width": 0.5
             },
             "pattern": {
              "fillmode": "overlay",
              "size": 10,
              "solidity": 0.2
             }
            },
            "type": "barpolar"
           }
          ],
          "carpet": [
           {
            "aaxis": {
             "endlinecolor": "#2a3f5f",
             "gridcolor": "white",
             "linecolor": "white",
             "minorgridcolor": "white",
             "startlinecolor": "#2a3f5f"
            },
            "baxis": {
             "endlinecolor": "#2a3f5f",
             "gridcolor": "white",
             "linecolor": "white",
             "minorgridcolor": "white",
             "startlinecolor": "#2a3f5f"
            },
            "type": "carpet"
           }
          ],
          "choropleth": [
           {
            "colorbar": {
             "outlinewidth": 0,
             "ticks": ""
            },
            "type": "choropleth"
           }
          ],
          "contour": [
           {
            "colorbar": {
             "outlinewidth": 0,
             "ticks": ""
            },
            "colorscale": [
             [
              0,
              "#0d0887"
             ],
             [
              0.1111111111111111,
              "#46039f"
             ],
             [
              0.2222222222222222,
              "#7201a8"
             ],
             [
              0.3333333333333333,
              "#9c179e"
             ],
             [
              0.4444444444444444,
              "#bd3786"
             ],
             [
              0.5555555555555556,
              "#d8576b"
             ],
             [
              0.6666666666666666,
              "#ed7953"
             ],
             [
              0.7777777777777778,
              "#fb9f3a"
             ],
             [
              0.8888888888888888,
              "#fdca26"
             ],
             [
              1,
              "#f0f921"
             ]
            ],
            "type": "contour"
           }
          ],
          "contourcarpet": [
           {
            "colorbar": {
             "outlinewidth": 0,
             "ticks": ""
            },
            "type": "contourcarpet"
           }
          ],
          "heatmap": [
           {
            "colorbar": {
             "outlinewidth": 0,
             "ticks": ""
            },
            "colorscale": [
             [
              0,
              "#0d0887"
             ],
             [
              0.1111111111111111,
              "#46039f"
             ],
             [
              0.2222222222222222,
              "#7201a8"
             ],
             [
              0.3333333333333333,
              "#9c179e"
             ],
             [
              0.4444444444444444,
              "#bd3786"
             ],
             [
              0.5555555555555556,
              "#d8576b"
             ],
             [
              0.6666666666666666,
              "#ed7953"
             ],
             [
              0.7777777777777778,
              "#fb9f3a"
             ],
             [
              0.8888888888888888,
              "#fdca26"
             ],
             [
              1,
              "#f0f921"
             ]
            ],
            "type": "heatmap"
           }
          ],
          "heatmapgl": [
           {
            "colorbar": {
             "outlinewidth": 0,
             "ticks": ""
            },
            "colorscale": [
             [
              0,
              "#0d0887"
             ],
             [
              0.1111111111111111,
              "#46039f"
             ],
             [
              0.2222222222222222,
              "#7201a8"
             ],
             [
              0.3333333333333333,
              "#9c179e"
             ],
             [
              0.4444444444444444,
              "#bd3786"
             ],
             [
              0.5555555555555556,
              "#d8576b"
             ],
             [
              0.6666666666666666,
              "#ed7953"
             ],
             [
              0.7777777777777778,
              "#fb9f3a"
             ],
             [
              0.8888888888888888,
              "#fdca26"
             ],
             [
              1,
              "#f0f921"
             ]
            ],
            "type": "heatmapgl"
           }
          ],
          "histogram": [
           {
            "marker": {
             "pattern": {
              "fillmode": "overlay",
              "size": 10,
              "solidity": 0.2
             }
            },
            "type": "histogram"
           }
          ],
          "histogram2d": [
           {
            "colorbar": {
             "outlinewidth": 0,
             "ticks": ""
            },
            "colorscale": [
             [
              0,
              "#0d0887"
             ],
             [
              0.1111111111111111,
              "#46039f"
             ],
             [
              0.2222222222222222,
              "#7201a8"
             ],
             [
              0.3333333333333333,
              "#9c179e"
             ],
             [
              0.4444444444444444,
              "#bd3786"
             ],
             [
              0.5555555555555556,
              "#d8576b"
             ],
             [
              0.6666666666666666,
              "#ed7953"
             ],
             [
              0.7777777777777778,
              "#fb9f3a"
             ],
             [
              0.8888888888888888,
              "#fdca26"
             ],
             [
              1,
              "#f0f921"
             ]
            ],
            "type": "histogram2d"
           }
          ],
          "histogram2dcontour": [
           {
            "colorbar": {
             "outlinewidth": 0,
             "ticks": ""
            },
            "colorscale": [
             [
              0,
              "#0d0887"
             ],
             [
              0.1111111111111111,
              "#46039f"
             ],
             [
              0.2222222222222222,
              "#7201a8"
             ],
             [
              0.3333333333333333,
              "#9c179e"
             ],
             [
              0.4444444444444444,
              "#bd3786"
             ],
             [
              0.5555555555555556,
              "#d8576b"
             ],
             [
              0.6666666666666666,
              "#ed7953"
             ],
             [
              0.7777777777777778,
              "#fb9f3a"
             ],
             [
              0.8888888888888888,
              "#fdca26"
             ],
             [
              1,
              "#f0f921"
             ]
            ],
            "type": "histogram2dcontour"
           }
          ],
          "mesh3d": [
           {
            "colorbar": {
             "outlinewidth": 0,
             "ticks": ""
            },
            "type": "mesh3d"
           }
          ],
          "parcoords": [
           {
            "line": {
             "colorbar": {
              "outlinewidth": 0,
              "ticks": ""
             }
            },
            "type": "parcoords"
           }
          ],
          "pie": [
           {
            "automargin": true,
            "type": "pie"
           }
          ],
          "scatter": [
           {
            "marker": {
             "colorbar": {
              "outlinewidth": 0,
              "ticks": ""
             }
            },
            "type": "scatter"
           }
          ],
          "scatter3d": [
           {
            "line": {
             "colorbar": {
              "outlinewidth": 0,
              "ticks": ""
             }
            },
            "marker": {
             "colorbar": {
              "outlinewidth": 0,
              "ticks": ""
             }
            },
            "type": "scatter3d"
           }
          ],
          "scattercarpet": [
           {
            "marker": {
             "colorbar": {
              "outlinewidth": 0,
              "ticks": ""
             }
            },
            "type": "scattercarpet"
           }
          ],
          "scattergeo": [
           {
            "marker": {
             "colorbar": {
              "outlinewidth": 0,
              "ticks": ""
             }
            },
            "type": "scattergeo"
           }
          ],
          "scattergl": [
           {
            "marker": {
             "colorbar": {
              "outlinewidth": 0,
              "ticks": ""
             }
            },
            "type": "scattergl"
           }
          ],
          "scattermapbox": [
           {
            "marker": {
             "colorbar": {
              "outlinewidth": 0,
              "ticks": ""
             }
            },
            "type": "scattermapbox"
           }
          ],
          "scatterpolar": [
           {
            "marker": {
             "colorbar": {
              "outlinewidth": 0,
              "ticks": ""
             }
            },
            "type": "scatterpolar"
           }
          ],
          "scatterpolargl": [
           {
            "marker": {
             "colorbar": {
              "outlinewidth": 0,
              "ticks": ""
             }
            },
            "type": "scatterpolargl"
           }
          ],
          "scatterternary": [
           {
            "marker": {
             "colorbar": {
              "outlinewidth": 0,
              "ticks": ""
             }
            },
            "type": "scatterternary"
           }
          ],
          "surface": [
           {
            "colorbar": {
             "outlinewidth": 0,
             "ticks": ""
            },
            "colorscale": [
             [
              0,
              "#0d0887"
             ],
             [
              0.1111111111111111,
              "#46039f"
             ],
             [
              0.2222222222222222,
              "#7201a8"
             ],
             [
              0.3333333333333333,
              "#9c179e"
             ],
             [
              0.4444444444444444,
              "#bd3786"
             ],
             [
              0.5555555555555556,
              "#d8576b"
             ],
             [
              0.6666666666666666,
              "#ed7953"
             ],
             [
              0.7777777777777778,
              "#fb9f3a"
             ],
             [
              0.8888888888888888,
              "#fdca26"
             ],
             [
              1,
              "#f0f921"
             ]
            ],
            "type": "surface"
           }
          ],
          "table": [
           {
            "cells": {
             "fill": {
              "color": "#EBF0F8"
             },
             "line": {
              "color": "white"
             }
            },
            "header": {
             "fill": {
              "color": "#C8D4E3"
             },
             "line": {
              "color": "white"
             }
            },
            "type": "table"
           }
          ]
         },
         "layout": {
          "annotationdefaults": {
           "arrowcolor": "#2a3f5f",
           "arrowhead": 0,
           "arrowwidth": 1
          },
          "autotypenumbers": "strict",
          "coloraxis": {
           "colorbar": {
            "outlinewidth": 0,
            "ticks": ""
           }
          },
          "colorscale": {
           "diverging": [
            [
             0,
             "#8e0152"
            ],
            [
             0.1,
             "#c51b7d"
            ],
            [
             0.2,
             "#de77ae"
            ],
            [
             0.3,
             "#f1b6da"
            ],
            [
             0.4,
             "#fde0ef"
            ],
            [
             0.5,
             "#f7f7f7"
            ],
            [
             0.6,
             "#e6f5d0"
            ],
            [
             0.7,
             "#b8e186"
            ],
            [
             0.8,
             "#7fbc41"
            ],
            [
             0.9,
             "#4d9221"
            ],
            [
             1,
             "#276419"
            ]
           ],
           "sequential": [
            [
             0,
             "#0d0887"
            ],
            [
             0.1111111111111111,
             "#46039f"
            ],
            [
             0.2222222222222222,
             "#7201a8"
            ],
            [
             0.3333333333333333,
             "#9c179e"
            ],
            [
             0.4444444444444444,
             "#bd3786"
            ],
            [
             0.5555555555555556,
             "#d8576b"
            ],
            [
             0.6666666666666666,
             "#ed7953"
            ],
            [
             0.7777777777777778,
             "#fb9f3a"
            ],
            [
             0.8888888888888888,
             "#fdca26"
            ],
            [
             1,
             "#f0f921"
            ]
           ],
           "sequentialminus": [
            [
             0,
             "#0d0887"
            ],
            [
             0.1111111111111111,
             "#46039f"
            ],
            [
             0.2222222222222222,
             "#7201a8"
            ],
            [
             0.3333333333333333,
             "#9c179e"
            ],
            [
             0.4444444444444444,
             "#bd3786"
            ],
            [
             0.5555555555555556,
             "#d8576b"
            ],
            [
             0.6666666666666666,
             "#ed7953"
            ],
            [
             0.7777777777777778,
             "#fb9f3a"
            ],
            [
             0.8888888888888888,
             "#fdca26"
            ],
            [
             1,
             "#f0f921"
            ]
           ]
          },
          "colorway": [
           "#636efa",
           "#EF553B",
           "#00cc96",
           "#ab63fa",
           "#FFA15A",
           "#19d3f3",
           "#FF6692",
           "#B6E880",
           "#FF97FF",
           "#FECB52"
          ],
          "font": {
           "color": "#2a3f5f"
          },
          "geo": {
           "bgcolor": "white",
           "lakecolor": "white",
           "landcolor": "#E5ECF6",
           "showlakes": true,
           "showland": true,
           "subunitcolor": "white"
          },
          "hoverlabel": {
           "align": "left"
          },
          "hovermode": "closest",
          "mapbox": {
           "style": "light"
          },
          "paper_bgcolor": "white",
          "plot_bgcolor": "#E5ECF6",
          "polar": {
           "angularaxis": {
            "gridcolor": "white",
            "linecolor": "white",
            "ticks": ""
           },
           "bgcolor": "#E5ECF6",
           "radialaxis": {
            "gridcolor": "white",
            "linecolor": "white",
            "ticks": ""
           }
          },
          "scene": {
           "xaxis": {
            "backgroundcolor": "#E5ECF6",
            "gridcolor": "white",
            "gridwidth": 2,
            "linecolor": "white",
            "showbackground": true,
            "ticks": "",
            "zerolinecolor": "white"
           },
           "yaxis": {
            "backgroundcolor": "#E5ECF6",
            "gridcolor": "white",
            "gridwidth": 2,
            "linecolor": "white",
            "showbackground": true,
            "ticks": "",
            "zerolinecolor": "white"
           },
           "zaxis": {
            "backgroundcolor": "#E5ECF6",
            "gridcolor": "white",
            "gridwidth": 2,
            "linecolor": "white",
            "showbackground": true,
            "ticks": "",
            "zerolinecolor": "white"
           }
          },
          "shapedefaults": {
           "line": {
            "color": "#2a3f5f"
           }
          },
          "ternary": {
           "aaxis": {
            "gridcolor": "white",
            "linecolor": "white",
            "ticks": ""
           },
           "baxis": {
            "gridcolor": "white",
            "linecolor": "white",
            "ticks": ""
           },
           "bgcolor": "#E5ECF6",
           "caxis": {
            "gridcolor": "white",
            "linecolor": "white",
            "ticks": ""
           }
          },
          "title": {
           "x": 0.05
          },
          "xaxis": {
           "automargin": true,
           "gridcolor": "white",
           "linecolor": "white",
           "ticks": "",
           "title": {
            "standoff": 15
           },
           "zerolinecolor": "white",
           "zerolinewidth": 2
          },
          "yaxis": {
           "automargin": true,
           "gridcolor": "white",
           "linecolor": "white",
           "ticks": "",
           "title": {
            "standoff": 15
           },
           "zerolinecolor": "white",
           "zerolinewidth": 2
          }
         }
        },
        "title": {
         "text": "Overall Pitch Trajectory points"
        },
        "width": 800
       }
      }
     },
     "metadata": {},
     "output_type": "display_data"
    }
   ],
   "source": [
    "\n",
    "fig = px.scatter_3d(\n",
    "    x = poly_df['x'],\n",
    "    y = poly_df['y'],\n",
    "    z = poly_df['z'],\n",
    "    color = poly_df['PlayResult']\n",
    ")\n",
    "\n",
    "fig.update_layout(\n",
    "    title = 'Overall Pitch Trajectory points', \n",
    "    width = 800\n",
    ")\n",
    "fig.show()"
   ]
  },
  {
   "cell_type": "code",
   "execution_count": 63,
   "metadata": {},
   "outputs": [],
   "source": [
    "# pitch\n",
    "df_pitch = df[\n",
    "    [\n",
    "        'x0', 'y0', 'z0',\n",
    "        'vx0', 'vy0', 'vz0',\n",
    "        'ax0', 'ay0', 'az0',\n",
    "        'RelSpeed', 'SpinRate', 'SpinAxis', 'ExitSpeed'\n",
    "    ]\n",
    "]"
   ]
  },
  {
   "cell_type": "code",
   "execution_count": 64,
   "metadata": {},
   "outputs": [
    {
     "data": {
      "text/html": [
       "<div>\n",
       "<style scoped>\n",
       "    .dataframe tbody tr th:only-of-type {\n",
       "        vertical-align: middle;\n",
       "    }\n",
       "\n",
       "    .dataframe tbody tr th {\n",
       "        vertical-align: top;\n",
       "    }\n",
       "\n",
       "    .dataframe thead th {\n",
       "        text-align: right;\n",
       "    }\n",
       "</style>\n",
       "<table border=\"1\" class=\"dataframe\">\n",
       "  <thead>\n",
       "    <tr style=\"text-align: right;\">\n",
       "      <th></th>\n",
       "      <th>x0</th>\n",
       "      <th>y0</th>\n",
       "      <th>z0</th>\n",
       "      <th>vx0</th>\n",
       "      <th>vy0</th>\n",
       "      <th>vz0</th>\n",
       "      <th>ax0</th>\n",
       "      <th>ay0</th>\n",
       "      <th>az0</th>\n",
       "      <th>RelSpeed</th>\n",
       "      <th>SpinRate</th>\n",
       "      <th>SpinAxis</th>\n",
       "      <th>ExitSpeed</th>\n",
       "    </tr>\n",
       "  </thead>\n",
       "  <tbody>\n",
       "    <tr>\n",
       "      <th>0</th>\n",
       "      <td>1.96020</td>\n",
       "      <td>50</td>\n",
       "      <td>6.26390</td>\n",
       "      <td>0.43017</td>\n",
       "      <td>-104.63348</td>\n",
       "      <td>5.34249</td>\n",
       "      <td>-8.79111</td>\n",
       "      <td>20.25043</td>\n",
       "      <td>-39.12365</td>\n",
       "      <td>72.33252</td>\n",
       "      <td>2393.839360</td>\n",
       "      <td>310.242850</td>\n",
       "      <td>NaN</td>\n",
       "    </tr>\n",
       "    <tr>\n",
       "      <th>1</th>\n",
       "      <td>1.61766</td>\n",
       "      <td>50</td>\n",
       "      <td>5.76259</td>\n",
       "      <td>-6.54801</td>\n",
       "      <td>-115.96627</td>\n",
       "      <td>-1.79481</td>\n",
       "      <td>14.30536</td>\n",
       "      <td>25.23781</td>\n",
       "      <td>-25.39856</td>\n",
       "      <td>80.03486</td>\n",
       "      <td>1536.317476</td>\n",
       "      <td>111.077894</td>\n",
       "      <td>94.46399</td>\n",
       "    </tr>\n",
       "    <tr>\n",
       "      <th>2</th>\n",
       "      <td>1.57573</td>\n",
       "      <td>50</td>\n",
       "      <td>5.78242</td>\n",
       "      <td>-8.39665</td>\n",
       "      <td>-130.92808</td>\n",
       "      <td>-4.78799</td>\n",
       "      <td>8.57996</td>\n",
       "      <td>29.75602</td>\n",
       "      <td>-14.44220</td>\n",
       "      <td>90.49939</td>\n",
       "      <td>2071.074344</td>\n",
       "      <td>156.273664</td>\n",
       "      <td>NaN</td>\n",
       "    </tr>\n",
       "  </tbody>\n",
       "</table>\n",
       "</div>"
      ],
      "text/plain": [
       "        x0  y0       z0      vx0        vy0      vz0       ax0       ay0  \\\n",
       "0  1.96020  50  6.26390  0.43017 -104.63348  5.34249  -8.79111  20.25043   \n",
       "1  1.61766  50  5.76259 -6.54801 -115.96627 -1.79481  14.30536  25.23781   \n",
       "2  1.57573  50  5.78242 -8.39665 -130.92808 -4.78799   8.57996  29.75602   \n",
       "\n",
       "        az0  RelSpeed     SpinRate    SpinAxis  ExitSpeed  \n",
       "0 -39.12365  72.33252  2393.839360  310.242850        NaN  \n",
       "1 -25.39856  80.03486  1536.317476  111.077894   94.46399  \n",
       "2 -14.44220  90.49939  2071.074344  156.273664        NaN  "
      ]
     },
     "execution_count": 64,
     "metadata": {},
     "output_type": "execute_result"
    }
   ],
   "source": [
    "df_pitch.head(3)"
   ]
  },
  {
   "cell_type": "code",
   "execution_count": 65,
   "metadata": {},
   "outputs": [],
   "source": [
    "def calculate_ploynomial(df):\n",
    "    df_poly = {\n",
    "        'x': [],\n",
    "        'y': [],\n",
    "        'z': [],\n",
    "        'RelSpeed': [],\n",
    "        'SpinRate': [],\n",
    "        'SpinAxis' : [], \n",
    "        'ExitSpeed' : []\n",
    "    }\n",
    "    for index, row in df.iterrows():\n",
    "        x_data = row['z0'] - (row['y0'] + row['x0']) \n",
    "        y_data = row['vz0'] - (row['vy0'] + row['vx0']) \n",
    "        z_data = row['az0'] - (row['ay0'] + row['ax0'])\n",
    "        rs_data = row['RelSpeed']\n",
    "        sr_data = row['SpinRate']\n",
    "        sa_data = row['SpinAxis']\n",
    "        es_data = row['ExitSpeed']\n",
    "        \n",
    "        df_poly['x'].append(x_data)\n",
    "        df_poly['y'].append(y_data)\n",
    "        df_poly['z'].append(z_data)\n",
    "        df_poly['RelSpeed'].append(rs_data)\n",
    "        df_poly['SpinRate'].append(sr_data)\n",
    "        df_poly['SpinAxis'].append(sa_data)\n",
    "        df_poly['ExitSpeed'].append(es_data)\n",
    "    return df_poly\n",
    "        \n",
    "new_pitch = calculate_ploynomial(df_pitch)"
   ]
  },
  {
   "cell_type": "code",
   "execution_count": 66,
   "metadata": {},
   "outputs": [],
   "source": [
    "pitch_df = pd.DataFrame(new_pitch, columns=['x', 'y', 'z', 'RelSpeed', 'SpinRate', 'SpinAxis', 'ExitSpeed'])"
   ]
  },
  {
   "cell_type": "code",
   "execution_count": 68,
   "metadata": {},
   "outputs": [
    {
     "data": {
      "application/vnd.plotly.v1+json": {
       "config": {
        "plotlyServerURL": "https://plot.ly"
       },
       "data": [
        {
         "hovertemplate": "x=%{x}<br>y=%{y}<br>z=%{z}<br>color=%{marker.color}<extra></extra>",
         "legendgroup": "",
         "marker": {
          "color": [
           72.33252,
           80.03486,
           90.49939,
           91.17764,
           75.14679,
           91.04289,
           89.6109,
           80.03412,
           90.19833,
           87.70474,
           88.43393,
           79.8363,
           76.73979,
           79.04393,
           74.01368,
           89.8648,
           79.74347,
           88.23787,
           80.37458,
           89.5997,
           75.72672,
           90.33461,
           90.01091,
           80.97787,
           89.87146,
           90.94924,
           76.86266,
           89.46844,
           73.18518,
           85.97512,
           86.89117,
           79.40836,
           86.07021,
           71.90586,
           86.1515,
           86.29569,
           82.54008,
           72.42196,
           85.21851,
           85.82379,
           81.44747,
           85.14835,
           70.56783,
           85.71985,
           72.93347,
           86.44911,
           83.90871,
           70.98733,
           76.76642,
           84.92229,
           74.65794,
           77.75668,
           85.94668,
           77.86284,
           77.81919,
           85.19076,
           76.66257,
           86.34372,
           85.26421,
           84.1208,
           77.77758,
           76.1573,
           85.22091,
           75.21608,
           81.18056,
           70.62216,
           80.30612,
           76.13743,
           81.13398,
           75.80804,
           81.31324,
           70.86974,
           71.24265,
           82.70858,
           75.889,
           81.0109,
           70.24466,
           82.1255,
           76.30911,
           80.79509,
           68.55058,
           80.94166,
           70.50873,
           72.35858,
           82.26003,
           76.0669,
           81.40771,
           69.07923,
           83.61732,
           83.69593,
           78.49428,
           69.98454,
           83.16633,
           80.90033,
           78.77515,
           77.13922,
           81.47805,
           68.76343,
           83.8277
          ],
          "coloraxis": "coloraxis",
          "symbol": "circle"
         },
         "mode": "markers",
         "name": "",
         "scene": "scene",
         "showlegend": false,
         "type": "scatter3d",
         "x": [
          -45.6963,
          -45.85507,
          -45.79331,
          -45.68721,
          -45.510169999999995,
          -45.84235,
          -45.68819,
          -46.05969,
          -45.95073,
          -45.88464,
          -46.03362,
          -46.052189999999996,
          -45.69642,
          -45.827830000000006,
          -45.64571,
          -45.736000000000004,
          -45.7888,
          -46.21513,
          -46.10382,
          -46.03571,
          -45.98689,
          -46.41342,
          -46.222739999999995,
          -46.029180000000004,
          -46.2102,
          -46.11364,
          -46.25104,
          -46.26673,
          -48.205549999999995,
          -47.93995,
          -48.23775,
          -48.37443,
          -48.17312,
          -48.11971,
          -48.389089999999996,
          -48.19102,
          -48.64177,
          -48.1246,
          -48.04182,
          -48.22808,
          -48.297700000000006,
          -47.94673,
          -47.992760000000004,
          -48.11466,
          -47.837689999999995,
          -48.227439999999994,
          -42.46897,
          -42.34354,
          -42.38387,
          -42.40469,
          -42.37576,
          -42.266690000000004,
          -42.483109999999996,
          -42.5342,
          -42.634,
          -42.78315,
          -42.32967,
          -42.57969,
          -42.71692,
          -42.52607,
          -42.73273,
          -42.18759,
          -42.69506,
          -45.26099,
          -44.78576,
          -45.18693,
          -44.88195,
          -45.74134,
          -44.65217,
          -45.631190000000004,
          -44.93165,
          -45.03278,
          -45.33645,
          -44.59657,
          -45.4545,
          -44.565740000000005,
          -45.17145,
          -44.79806,
          -45.468520000000005,
          -44.7912,
          -44.90288,
          -44.6374,
          -45.44001,
          -45.26192,
          -46.04302,
          -46.76214,
          -46.00766,
          -46.07896,
          -46.14913,
          -46.185689999999994,
          -46.9669,
          -46.39063,
          -46.11098,
          -46.41892,
          -46.72702,
          -47.0303,
          -46.58899,
          -46.53313,
          -46.48487
         ],
         "y": [
          109.5458,
          120.71947,
          134.53673999999998,
          132.82405999999997,
          111.54688,
          130.11945,
          133.66665999999998,
          116.47793,
          131.70873,
          126.46077,
          129.82964,
          118.68471000000001,
          114.30961,
          118.43782,
          112.60202,
          133.88182999999998,
          121.72872,
          128.08450000000002,
          118.02931,
          132.52365000000003,
          112.08989000000001,
          129.21048,
          131.99124999999998,
          120.79975,
          131.82169,
          134.04385000000002,
          113.29493,
          130.44833,
          112.75506000000001,
          138.57331,
          135.70120000000003,
          127.5217,
          134.15853,
          108.35106999999999,
          132.30404000000001,
          136.33816000000002,
          127.03538000000002,
          110.55449000000002,
          133.30666,
          137.63175999999999,
          127.21856,
          137.89524,
          107.22823,
          134.95343,
          112.69592,
          135.81464,
          111.08699,
          105.24136,
          111.52154000000002,
          116.70351,
          110.27825,
          111.42994999999999,
          116.57203000000001,
          111.85305999999999,
          108.06331999999999,
          109.85253999999999,
          110.41192,
          117.00083000000001,
          110.84252000000001,
          113.37943,
          105.75769000000001,
          113.33058,
          112.46515,
          111.88239,
          118.45414,
          106.28395,
          115.86861999999999,
          108.25718,
          119.76347,
          109.51641000000001,
          116.82344,
          107.82723999999999,
          105.36598000000001,
          124.61545,
          111.86149,
          118.81053,
          105.05562,
          120.85786,
          112.94399,
          114.80206,
          101.8222,
          120.73961,
          103.94093000000001,
          107.98164999999999,
          122.75406000000001,
          111.90447,
          117.88872,
          100.51785000000001,
          125.0116,
          125.31693999999999,
          116.65813999999999,
          104.42144,
          119.8845,
          115.15694,
          114.72853,
          113.59224999999999,
          121.56357,
          103.62927,
          122.14955
         ],
         "z": [
          -50.58297,
          -64.94173,
          -52.77818,
          -50.77637,
          -53.99954,
          -64.02228,
          -50.37345,
          -62.07236,
          -58.45206,
          -58.37899,
          -62.28974,
          -60.66241000000001,
          -50.37515,
          -52.44773,
          -49.00011000000001,
          -57.548019999999994,
          -65.42672999999999,
          -56.85253,
          -66.14677,
          -49.10464,
          -53.848620000000004,
          -54.22009,
          -57.44788,
          -49.92767,
          -50.92223,
          -53.355959999999996,
          -52.98589,
          -60.15072,
          -43.58956,
          -61.082789999999996,
          -59.792649999999995,
          -64.22193,
          -61.085150000000006,
          -40.45123,
          -58.085930000000005,
          -58.27127,
          -62.57315,
          -43.940650000000005,
          -53.13342,
          -60.627179999999996,
          -60.11108,
          -58.66091,
          -43.62135,
          -55.736580000000004,
          -43.1836,
          -58.69968,
          -33.307900000000004,
          -59.372,
          -57.10098,
          -33.94274,
          -54.200329999999994,
          -53.1242,
          -32.06013,
          -36.68988,
          -61.62316,
          -30.761899999999997,
          -57.73992,
          -36.72481,
          -37.31052,
          -32.727329999999995,
          -53.87751,
          -52.13925,
          -25.81896,
          -51.02733,
          -45.32424,
          -45.0485,
          -43.487669999999994,
          -53.99413,
          -52.32416,
          -53.85571,
          -49.36207,
          -49.529270000000004,
          -47.9901,
          -52.92076,
          -58.69146,
          -58.29299,
          -52.34903,
          -60.364470000000004,
          -55.79565,
          -55.75314,
          -45.74304,
          -46.65021,
          -46.67262,
          -50.621300000000005,
          -39.269580000000005,
          -51.944500000000005,
          -47.904830000000004,
          -53.475,
          -39.63945,
          -40.66439,
          -52.52827,
          -48.934799999999996,
          -42.3353,
          -43.165139999999994,
          -41.61286,
          -46.91487,
          -45.562470000000005,
          -50.95078,
          -50.91816
         ]
        }
       ],
       "layout": {
        "coloraxis": {
         "colorbar": {
          "title": {
           "text": "color"
          }
         },
         "colorscale": [
          [
           0,
           "#0d0887"
          ],
          [
           0.1111111111111111,
           "#46039f"
          ],
          [
           0.2222222222222222,
           "#7201a8"
          ],
          [
           0.3333333333333333,
           "#9c179e"
          ],
          [
           0.4444444444444444,
           "#bd3786"
          ],
          [
           0.5555555555555556,
           "#d8576b"
          ],
          [
           0.6666666666666666,
           "#ed7953"
          ],
          [
           0.7777777777777778,
           "#fb9f3a"
          ],
          [
           0.8888888888888888,
           "#fdca26"
          ],
          [
           1,
           "#f0f921"
          ]
         ]
        },
        "legend": {
         "tracegroupgap": 0
        },
        "margin": {
         "t": 60
        },
        "scene": {
         "domain": {
          "x": [
           0,
           1
          ],
          "y": [
           0,
           1
          ]
         },
         "xaxis": {
          "title": {
           "text": "x"
          }
         },
         "yaxis": {
          "title": {
           "text": "y"
          }
         },
         "zaxis": {
          "title": {
           "text": "z"
          }
         }
        },
        "template": {
         "data": {
          "bar": [
           {
            "error_x": {
             "color": "#2a3f5f"
            },
            "error_y": {
             "color": "#2a3f5f"
            },
            "marker": {
             "line": {
              "color": "#E5ECF6",
              "width": 0.5
             },
             "pattern": {
              "fillmode": "overlay",
              "size": 10,
              "solidity": 0.2
             }
            },
            "type": "bar"
           }
          ],
          "barpolar": [
           {
            "marker": {
             "line": {
              "color": "#E5ECF6",
              "width": 0.5
             },
             "pattern": {
              "fillmode": "overlay",
              "size": 10,
              "solidity": 0.2
             }
            },
            "type": "barpolar"
           }
          ],
          "carpet": [
           {
            "aaxis": {
             "endlinecolor": "#2a3f5f",
             "gridcolor": "white",
             "linecolor": "white",
             "minorgridcolor": "white",
             "startlinecolor": "#2a3f5f"
            },
            "baxis": {
             "endlinecolor": "#2a3f5f",
             "gridcolor": "white",
             "linecolor": "white",
             "minorgridcolor": "white",
             "startlinecolor": "#2a3f5f"
            },
            "type": "carpet"
           }
          ],
          "choropleth": [
           {
            "colorbar": {
             "outlinewidth": 0,
             "ticks": ""
            },
            "type": "choropleth"
           }
          ],
          "contour": [
           {
            "colorbar": {
             "outlinewidth": 0,
             "ticks": ""
            },
            "colorscale": [
             [
              0,
              "#0d0887"
             ],
             [
              0.1111111111111111,
              "#46039f"
             ],
             [
              0.2222222222222222,
              "#7201a8"
             ],
             [
              0.3333333333333333,
              "#9c179e"
             ],
             [
              0.4444444444444444,
              "#bd3786"
             ],
             [
              0.5555555555555556,
              "#d8576b"
             ],
             [
              0.6666666666666666,
              "#ed7953"
             ],
             [
              0.7777777777777778,
              "#fb9f3a"
             ],
             [
              0.8888888888888888,
              "#fdca26"
             ],
             [
              1,
              "#f0f921"
             ]
            ],
            "type": "contour"
           }
          ],
          "contourcarpet": [
           {
            "colorbar": {
             "outlinewidth": 0,
             "ticks": ""
            },
            "type": "contourcarpet"
           }
          ],
          "heatmap": [
           {
            "colorbar": {
             "outlinewidth": 0,
             "ticks": ""
            },
            "colorscale": [
             [
              0,
              "#0d0887"
             ],
             [
              0.1111111111111111,
              "#46039f"
             ],
             [
              0.2222222222222222,
              "#7201a8"
             ],
             [
              0.3333333333333333,
              "#9c179e"
             ],
             [
              0.4444444444444444,
              "#bd3786"
             ],
             [
              0.5555555555555556,
              "#d8576b"
             ],
             [
              0.6666666666666666,
              "#ed7953"
             ],
             [
              0.7777777777777778,
              "#fb9f3a"
             ],
             [
              0.8888888888888888,
              "#fdca26"
             ],
             [
              1,
              "#f0f921"
             ]
            ],
            "type": "heatmap"
           }
          ],
          "heatmapgl": [
           {
            "colorbar": {
             "outlinewidth": 0,
             "ticks": ""
            },
            "colorscale": [
             [
              0,
              "#0d0887"
             ],
             [
              0.1111111111111111,
              "#46039f"
             ],
             [
              0.2222222222222222,
              "#7201a8"
             ],
             [
              0.3333333333333333,
              "#9c179e"
             ],
             [
              0.4444444444444444,
              "#bd3786"
             ],
             [
              0.5555555555555556,
              "#d8576b"
             ],
             [
              0.6666666666666666,
              "#ed7953"
             ],
             [
              0.7777777777777778,
              "#fb9f3a"
             ],
             [
              0.8888888888888888,
              "#fdca26"
             ],
             [
              1,
              "#f0f921"
             ]
            ],
            "type": "heatmapgl"
           }
          ],
          "histogram": [
           {
            "marker": {
             "pattern": {
              "fillmode": "overlay",
              "size": 10,
              "solidity": 0.2
             }
            },
            "type": "histogram"
           }
          ],
          "histogram2d": [
           {
            "colorbar": {
             "outlinewidth": 0,
             "ticks": ""
            },
            "colorscale": [
             [
              0,
              "#0d0887"
             ],
             [
              0.1111111111111111,
              "#46039f"
             ],
             [
              0.2222222222222222,
              "#7201a8"
             ],
             [
              0.3333333333333333,
              "#9c179e"
             ],
             [
              0.4444444444444444,
              "#bd3786"
             ],
             [
              0.5555555555555556,
              "#d8576b"
             ],
             [
              0.6666666666666666,
              "#ed7953"
             ],
             [
              0.7777777777777778,
              "#fb9f3a"
             ],
             [
              0.8888888888888888,
              "#fdca26"
             ],
             [
              1,
              "#f0f921"
             ]
            ],
            "type": "histogram2d"
           }
          ],
          "histogram2dcontour": [
           {
            "colorbar": {
             "outlinewidth": 0,
             "ticks": ""
            },
            "colorscale": [
             [
              0,
              "#0d0887"
             ],
             [
              0.1111111111111111,
              "#46039f"
             ],
             [
              0.2222222222222222,
              "#7201a8"
             ],
             [
              0.3333333333333333,
              "#9c179e"
             ],
             [
              0.4444444444444444,
              "#bd3786"
             ],
             [
              0.5555555555555556,
              "#d8576b"
             ],
             [
              0.6666666666666666,
              "#ed7953"
             ],
             [
              0.7777777777777778,
              "#fb9f3a"
             ],
             [
              0.8888888888888888,
              "#fdca26"
             ],
             [
              1,
              "#f0f921"
             ]
            ],
            "type": "histogram2dcontour"
           }
          ],
          "mesh3d": [
           {
            "colorbar": {
             "outlinewidth": 0,
             "ticks": ""
            },
            "type": "mesh3d"
           }
          ],
          "parcoords": [
           {
            "line": {
             "colorbar": {
              "outlinewidth": 0,
              "ticks": ""
             }
            },
            "type": "parcoords"
           }
          ],
          "pie": [
           {
            "automargin": true,
            "type": "pie"
           }
          ],
          "scatter": [
           {
            "marker": {
             "colorbar": {
              "outlinewidth": 0,
              "ticks": ""
             }
            },
            "type": "scatter"
           }
          ],
          "scatter3d": [
           {
            "line": {
             "colorbar": {
              "outlinewidth": 0,
              "ticks": ""
             }
            },
            "marker": {
             "colorbar": {
              "outlinewidth": 0,
              "ticks": ""
             }
            },
            "type": "scatter3d"
           }
          ],
          "scattercarpet": [
           {
            "marker": {
             "colorbar": {
              "outlinewidth": 0,
              "ticks": ""
             }
            },
            "type": "scattercarpet"
           }
          ],
          "scattergeo": [
           {
            "marker": {
             "colorbar": {
              "outlinewidth": 0,
              "ticks": ""
             }
            },
            "type": "scattergeo"
           }
          ],
          "scattergl": [
           {
            "marker": {
             "colorbar": {
              "outlinewidth": 0,
              "ticks": ""
             }
            },
            "type": "scattergl"
           }
          ],
          "scattermapbox": [
           {
            "marker": {
             "colorbar": {
              "outlinewidth": 0,
              "ticks": ""
             }
            },
            "type": "scattermapbox"
           }
          ],
          "scatterpolar": [
           {
            "marker": {
             "colorbar": {
              "outlinewidth": 0,
              "ticks": ""
             }
            },
            "type": "scatterpolar"
           }
          ],
          "scatterpolargl": [
           {
            "marker": {
             "colorbar": {
              "outlinewidth": 0,
              "ticks": ""
             }
            },
            "type": "scatterpolargl"
           }
          ],
          "scatterternary": [
           {
            "marker": {
             "colorbar": {
              "outlinewidth": 0,
              "ticks": ""
             }
            },
            "type": "scatterternary"
           }
          ],
          "surface": [
           {
            "colorbar": {
             "outlinewidth": 0,
             "ticks": ""
            },
            "colorscale": [
             [
              0,
              "#0d0887"
             ],
             [
              0.1111111111111111,
              "#46039f"
             ],
             [
              0.2222222222222222,
              "#7201a8"
             ],
             [
              0.3333333333333333,
              "#9c179e"
             ],
             [
              0.4444444444444444,
              "#bd3786"
             ],
             [
              0.5555555555555556,
              "#d8576b"
             ],
             [
              0.6666666666666666,
              "#ed7953"
             ],
             [
              0.7777777777777778,
              "#fb9f3a"
             ],
             [
              0.8888888888888888,
              "#fdca26"
             ],
             [
              1,
              "#f0f921"
             ]
            ],
            "type": "surface"
           }
          ],
          "table": [
           {
            "cells": {
             "fill": {
              "color": "#EBF0F8"
             },
             "line": {
              "color": "white"
             }
            },
            "header": {
             "fill": {
              "color": "#C8D4E3"
             },
             "line": {
              "color": "white"
             }
            },
            "type": "table"
           }
          ]
         },
         "layout": {
          "annotationdefaults": {
           "arrowcolor": "#2a3f5f",
           "arrowhead": 0,
           "arrowwidth": 1
          },
          "autotypenumbers": "strict",
          "coloraxis": {
           "colorbar": {
            "outlinewidth": 0,
            "ticks": ""
           }
          },
          "colorscale": {
           "diverging": [
            [
             0,
             "#8e0152"
            ],
            [
             0.1,
             "#c51b7d"
            ],
            [
             0.2,
             "#de77ae"
            ],
            [
             0.3,
             "#f1b6da"
            ],
            [
             0.4,
             "#fde0ef"
            ],
            [
             0.5,
             "#f7f7f7"
            ],
            [
             0.6,
             "#e6f5d0"
            ],
            [
             0.7,
             "#b8e186"
            ],
            [
             0.8,
             "#7fbc41"
            ],
            [
             0.9,
             "#4d9221"
            ],
            [
             1,
             "#276419"
            ]
           ],
           "sequential": [
            [
             0,
             "#0d0887"
            ],
            [
             0.1111111111111111,
             "#46039f"
            ],
            [
             0.2222222222222222,
             "#7201a8"
            ],
            [
             0.3333333333333333,
             "#9c179e"
            ],
            [
             0.4444444444444444,
             "#bd3786"
            ],
            [
             0.5555555555555556,
             "#d8576b"
            ],
            [
             0.6666666666666666,
             "#ed7953"
            ],
            [
             0.7777777777777778,
             "#fb9f3a"
            ],
            [
             0.8888888888888888,
             "#fdca26"
            ],
            [
             1,
             "#f0f921"
            ]
           ],
           "sequentialminus": [
            [
             0,
             "#0d0887"
            ],
            [
             0.1111111111111111,
             "#46039f"
            ],
            [
             0.2222222222222222,
             "#7201a8"
            ],
            [
             0.3333333333333333,
             "#9c179e"
            ],
            [
             0.4444444444444444,
             "#bd3786"
            ],
            [
             0.5555555555555556,
             "#d8576b"
            ],
            [
             0.6666666666666666,
             "#ed7953"
            ],
            [
             0.7777777777777778,
             "#fb9f3a"
            ],
            [
             0.8888888888888888,
             "#fdca26"
            ],
            [
             1,
             "#f0f921"
            ]
           ]
          },
          "colorway": [
           "#636efa",
           "#EF553B",
           "#00cc96",
           "#ab63fa",
           "#FFA15A",
           "#19d3f3",
           "#FF6692",
           "#B6E880",
           "#FF97FF",
           "#FECB52"
          ],
          "font": {
           "color": "#2a3f5f"
          },
          "geo": {
           "bgcolor": "white",
           "lakecolor": "white",
           "landcolor": "#E5ECF6",
           "showlakes": true,
           "showland": true,
           "subunitcolor": "white"
          },
          "hoverlabel": {
           "align": "left"
          },
          "hovermode": "closest",
          "mapbox": {
           "style": "light"
          },
          "paper_bgcolor": "white",
          "plot_bgcolor": "#E5ECF6",
          "polar": {
           "angularaxis": {
            "gridcolor": "white",
            "linecolor": "white",
            "ticks": ""
           },
           "bgcolor": "#E5ECF6",
           "radialaxis": {
            "gridcolor": "white",
            "linecolor": "white",
            "ticks": ""
           }
          },
          "scene": {
           "xaxis": {
            "backgroundcolor": "#E5ECF6",
            "gridcolor": "white",
            "gridwidth": 2,
            "linecolor": "white",
            "showbackground": true,
            "ticks": "",
            "zerolinecolor": "white"
           },
           "yaxis": {
            "backgroundcolor": "#E5ECF6",
            "gridcolor": "white",
            "gridwidth": 2,
            "linecolor": "white",
            "showbackground": true,
            "ticks": "",
            "zerolinecolor": "white"
           },
           "zaxis": {
            "backgroundcolor": "#E5ECF6",
            "gridcolor": "white",
            "gridwidth": 2,
            "linecolor": "white",
            "showbackground": true,
            "ticks": "",
            "zerolinecolor": "white"
           }
          },
          "shapedefaults": {
           "line": {
            "color": "#2a3f5f"
           }
          },
          "ternary": {
           "aaxis": {
            "gridcolor": "white",
            "linecolor": "white",
            "ticks": ""
           },
           "baxis": {
            "gridcolor": "white",
            "linecolor": "white",
            "ticks": ""
           },
           "bgcolor": "#E5ECF6",
           "caxis": {
            "gridcolor": "white",
            "linecolor": "white",
            "ticks": ""
           }
          },
          "title": {
           "x": 0.05
          },
          "xaxis": {
           "automargin": true,
           "gridcolor": "white",
           "linecolor": "white",
           "ticks": "",
           "title": {
            "standoff": 15
           },
           "zerolinecolor": "white",
           "zerolinewidth": 2
          },
          "yaxis": {
           "automargin": true,
           "gridcolor": "white",
           "linecolor": "white",
           "ticks": "",
           "title": {
            "standoff": 15
           },
           "zerolinecolor": "white",
           "zerolinewidth": 2
          }
         }
        },
        "title": {
         "text": "Overall Pitch Trajectory points"
        },
        "width": 800
       }
      }
     },
     "metadata": {},
     "output_type": "display_data"
    }
   ],
   "source": [
    "fig = px.scatter_3d(\n",
    "    x = pitch_df['x'],\n",
    "    y = pitch_df['y'],\n",
    "    z = pitch_df['z'],\n",
    "    color = pitch_df['RelSpeed']\n",
    ")\n",
    "\n",
    "fig.update_layout(\n",
    "    title = 'Overall Pitch Trajectory points', \n",
    "    width = 800\n",
    ")\n",
    "fig.show()"
   ]
  },
  {
   "cell_type": "code",
   "execution_count": 71,
   "metadata": {},
   "outputs": [
    {
     "name": "stdout",
     "output_type": "stream",
     "text": [
      "80.5385870707071\n"
     ]
    }
   ],
   "source": [
    "# Avg relative speed(miles per hour)\n",
    "sum_speed = sum(df['RelSpeed'])\n",
    "avg_speed = sum_speed/(len(df['RelSpeed']))\n",
    "print(avg_speed)"
   ]
  },
  {
   "cell_type": "code",
   "execution_count": 72,
   "metadata": {},
   "outputs": [
    {
     "name": "stdout",
     "output_type": "stream",
     "text": [
      "176.92046186868689\n"
     ]
    }
   ],
   "source": [
    "# Avg ball spinAxis\n",
    "sum_spin = sum(df['SpinAxis'])\n",
    "avg_spin = sum_spin/(len(df['SpinAxis']))\n",
    "print(avg_spin)"
   ]
  },
  {
   "cell_type": "code",
   "execution_count": null,
   "metadata": {},
   "outputs": [],
   "source": [
    "# Pitchers count"
   ]
  },
  {
   "cell_type": "code",
   "execution_count": null,
   "metadata": {},
   "outputs": [],
   "source": []
  }
 ],
 "metadata": {
  "interpreter": {
   "hash": "83030e7af8a3b2fc518ff2dabcf75fa775bedd9c7d16153aeba13ec8e555d11f"
  },
  "kernelspec": {
   "display_name": "Python 3.8.6 64-bit",
   "language": "python",
   "name": "python3"
  },
  "language_info": {
   "codemirror_mode": {
    "name": "ipython",
    "version": 3
   },
   "file_extension": ".py",
   "mimetype": "text/x-python",
   "name": "python",
   "nbconvert_exporter": "python",
   "pygments_lexer": "ipython3",
   "version": "3.8.6"
  },
  "orig_nbformat": 4
 },
 "nbformat": 4,
 "nbformat_minor": 2
}
