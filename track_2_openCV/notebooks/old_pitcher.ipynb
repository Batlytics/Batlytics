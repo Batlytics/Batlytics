{
 "cells": [
  {
   "cell_type": "code",
   "metadata": {
    "cell_id": "13ba9e6f-f0d1-4bdc-8113-657f266db49a",
    "tags": [],
    "deepnote_to_be_reexecuted": false,
    "source_hash": "7fb847a7",
    "execution_start": 1645269979510,
    "execution_millis": 1510,
    "deepnote_cell_type": "code"
   },
   "source": "import cv2\nimport mediapipe as mp\nmp_drawing = mp.solutions.drawing_utils\nmp_drawing_styles = mp.solutions.drawing_styles\nmp_pose = mp.solutions.pose",
   "execution_count": null,
   "outputs": []
  },
  {
   "cell_type": "code",
   "metadata": {
    "tags": [],
    "cell_id": "a3c66c62-e9af-4b20-bd86-a1eddedd3a58",
    "deepnote_to_be_reexecuted": false,
    "source_hash": "5acf4194",
    "execution_start": 1645269981026,
    "execution_millis": 2246,
    "deepnote_cell_type": "code"
   },
   "source": "count = 0\nVIDEO_PATH = 'pitcher.mp4'\n# vidcap = cv2.VideoCapture(VIDEO_PATH)\n# def processFrame(sec):\n    # vidcap.set(cv2.CAP_PROP_POS_MSEC,sec*1000)\ncap = cv2.VideoCapture(VIDEO_PATH)\ncap.set(cv2.CAP_PROP_POS_MSEC,120000)\nwith mp_pose.Pose(\n    min_detection_confidence=0.5,\n    min_tracking_confidence=0.5) as pose:\n    cnt = 0\n    while cap.isOpened():\n        success, image = cap.read()\n        if not success:\n            print(\"Ignoring empty camera frame.\")\n            # If loading a video, use 'break' instead of 'continue'.\n            continue\n        # hasFrames,image = vidcap.read()\n        if success:\n            img = image\n            # img_path = \"../data/preprocessed/image\"+str(count)+\".jpg\"\n            # if os.path.exists(img_path):\n            #     return hasFrames\n            # cv2.imwrite(img_path, img)\n\n            # To improve performance, optionally mark the image as not writeable to\n            # pass by reference.\n            image.flags.writeable = False\n            image = cv2.cvtColor(image, cv2.COLOR_BGR2RGB)\n            \n            # height_part = int(image.shape[0] / 3)\n            # width_part = int(image.shape[1] / 3)\n            # image = image[height_part:2*height_part, width_part:2*width_part]\n            height_size = 300\n            width_size = 400\n            width_offset = 200\n\n            height_center = int(image.shape[0] / 2)\n            width_center = int(image.shape[1] / 2)\n\n            image = image[height_center - height_size:height_center + height_size,\n                          width_center - width_size + width_offset: width_center + width_size]\n            results = pose.process(image)\n\n            # print(image.shape)\n            # Landmark of interest\n            # landmark_of_interest = results.pose_landmarks.landmark[13]\n            # print('X: {}, Y: {}, Z: {}'.format(landmark_of_interest.x, landmark_of_interest.y, landmark_of_interest.z))\n            # break\n\n            # Draw the pose annotation on the image.\n            image.flags.writeable = True\n            image = cv2.cvtColor(image, cv2.COLOR_RGB2BGR)\n            mp_drawing.draw_landmarks(\n                image,\n                results.pose_landmarks,\n                mp_pose.POSE_CONNECTIONS,\n                landmark_drawing_spec=mp_drawing_styles.get_default_pose_landmarks_style())\n            # Flip the image horizontally for a selfie-view display.\n            # cv2.imshow('MediaPipe Pose', cv2.flip(image, 1))\n            # if cv2.waitKey(5) & 0xFF == 27:\n            #     break\n\n            cv2.imwrite(\"./out/image\"+str(cnt)+\".jpg\", image)     # save frame as JPG file\n            cnt += 1\n            if cnt == 50:\n                break",
   "execution_count": null,
   "outputs": []
  },
  {
   "cell_type": "markdown",
   "source": "<a style='text-decoration:none;line-height:16px;display:flex;color:#5B5B62;padding:10px;justify-content:end;' href='https://deepnote.com?utm_source=created-in-deepnote-cell&projectId=647cfa84-df6d-4c57-abf6-6440226ddf94' target=\"_blank\">\n<img alt='Created in deepnote.com' style='display:inline;max-height:16px;margin:0px;margin-right:7.5px;' src='data:image/svg+xml;base64,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' > </img>\nCreated in <span style='font-weight:600;margin-left:4px;'>Deepnote</span></a>",
   "metadata": {
    "tags": [],
    "created_in_deepnote_cell": true,
    "deepnote_cell_type": "markdown"
   }
  }
 ],
 "nbformat": 4,
 "nbformat_minor": 2,
 "metadata": {
  "orig_nbformat": 2,
  "deepnote": {
   "is_reactive": false
  },
  "deepnote_notebook_id": "b7fb5cbf-d3c1-4af3-a8c2-9d2338e2f79c",
  "deepnote_execution_queue": []
 }
}